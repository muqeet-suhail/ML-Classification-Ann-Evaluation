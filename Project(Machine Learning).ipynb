{
 "cells": [
  {
   "cell_type": "markdown",
   "id": "fd5a1c0c",
   "metadata": {
    "id": "fd5a1c0c"
   },
   "source": [
    "# Downloading Neccesarry Libraries"
   ]
  },
  {
   "cell_type": "code",
   "execution_count": null,
   "id": "1bdba35c",
   "metadata": {
    "colab": {
     "base_uri": "https://localhost:8080/"
    },
    "executionInfo": {
     "elapsed": 42049,
     "status": "ok",
     "timestamp": 1751060467029,
     "user": {
      "displayName": "ABDUL MUQEET",
      "userId": "16980373299016886552"
     },
     "user_tz": -300
    },
    "id": "1bdba35c",
    "outputId": "abc4964b-dd42-4d55-832d-4adb50508f16"
   },
   "outputs": [],
   "source": [
    "!pip install pandas\n",
    "!pip install scikit-learn\n",
    "!pip install matplotlib\n",
    "!pip install seaborn\n",
    "!pip install numpy\n",
    "!pip install tensorflow"
   ]
  },
  {
   "cell_type": "markdown",
   "id": "f6737c65",
   "metadata": {
    "id": "f6737c65"
   },
   "source": [
    "# Importing Libraries"
   ]
  },
  {
   "cell_type": "code",
   "execution_count": null,
   "id": "c43a3aa3",
   "metadata": {
    "id": "c43a3aa3"
   },
   "outputs": [],
   "source": [
    "import pandas as pd\n",
    "import sklearn\n",
    "pd.set_option('display.max_rows', None)       # Show all rows\n",
    "pd.set_option('display.max_columns', None)    # Show all columns\n",
    "pd.set_option('display.width', None)          # No line wrap\n",
    "pd.set_option('display.max_colwidth', None)   # Show full content in each cell\n",
    "from sklearn.linear_model import LogisticRegression\n",
    "from sklearn.preprocessing import LabelEncoder\n",
    "from sklearn.preprocessing import StandardScaler\n",
    "from sklearn.model_selection import train_test_split\n",
    "from sklearn.tree import DecisionTreeClassifier\n",
    "from sklearn.ensemble import RandomForestClassifier\n",
    "from sklearn.neighbors import KNeighborsClassifier\n",
    "from sklearn.naive_bayes import GaussianNB\n",
    "import matplotlib.pyplot as plt\n",
    "import seaborn as sns\n",
    "from sklearn.metrics import (\n",
    "    accuracy_score, precision_score, recall_score, f1_score,\n",
    "    confusion_matrix, ConfusionMatrixDisplay,\n",
    "    roc_auc_score, roc_curve, auc, classification_report\n",
    ")\n",
    "from sklearn.preprocessing import label_binarize\n",
    "import numpy as np\n",
    "import tensorflow as tf\n",
    "from tensorflow.keras.models import Sequential\n",
    "from tensorflow.keras.layers import Dense, Dropout, Input\n",
    "from tensorflow.keras.utils import to_categorical\n",
    "from collections import Counter"
   ]
  },
  {
   "cell_type": "markdown",
   "id": "f42a94dd",
   "metadata": {
    "id": "f42a94dd"
   },
   "source": [
    "# Loading Dataset"
   ]
  },
  {
   "cell_type": "code",
   "execution_count": null,
   "id": "fd6bc01b",
   "metadata": {
    "colab": {
     "base_uri": "https://localhost:8080/",
     "height": 1000
    },
    "executionInfo": {
     "elapsed": 922,
     "status": "ok",
     "timestamp": 1751060468023,
     "user": {
      "displayName": "ABDUL MUQEET",
      "userId": "16980373299016886552"
     },
     "user_tz": -300
    },
    "id": "fd6bc01b",
    "outputId": "dbe1950d-6f2d-406e-e7b1-b6d12c422506"
   },
   "outputs": [],
   "source": [
    "dataset=pd.read_csv('age_interest_career_dataset.csv', encoding= 'cp1252')\n",
    "print()\n",
    "print(\"----------------------------------------------------------------- Dataset ------------------------------------------------------------------\")\n",
    "dataset"
   ]
  },
  {
   "cell_type": "markdown",
   "id": "aaac7046",
   "metadata": {
    "id": "aaac7046"
   },
   "source": [
    "# Understaning The Dataset & Its Structure"
   ]
  },
  {
   "cell_type": "code",
   "execution_count": null,
   "id": "2699b7c7",
   "metadata": {
    "colab": {
     "base_uri": "https://localhost:8080/"
    },
    "executionInfo": {
     "elapsed": 26,
     "status": "ok",
     "timestamp": 1751060468059,
     "user": {
      "displayName": "ABDUL MUQEET",
      "userId": "16980373299016886552"
     },
     "user_tz": -300
    },
    "id": "2699b7c7",
    "outputId": "6dad5191-d3d3-420c-95ab-9223886dadbd"
   },
   "outputs": [],
   "source": [
    "print(\"-------------------- Dataset shape --------------------\")\n",
    "print(\"Rows:\", dataset.shape[0], \"and\", \"Columns:\", dataset.shape[1])\n",
    "print (\"-------------------------------------------------------\")"
   ]
  },
  {
   "cell_type": "code",
   "execution_count": null,
   "id": "9e0ffd4d",
   "metadata": {
    "colab": {
     "base_uri": "https://localhost:8080/"
    },
    "executionInfo": {
     "elapsed": 17,
     "status": "ok",
     "timestamp": 1751060468128,
     "user": {
      "displayName": "ABDUL MUQEET",
      "userId": "16980373299016886552"
     },
     "user_tz": -300
    },
    "id": "9e0ffd4d",
    "outputId": "5a7867e7-d43f-43f1-fdc7-61766302c525"
   },
   "outputs": [],
   "source": [
    "print(\"---------------------- Dataset info ----------------------\")\n",
    "print(\"Total Null Entries in Each Column in Dataset:\")\n",
    "print(dataset.isnull().sum())\n",
    "print(\"Total Null Entries: \", dataset.isnull().sum().sum())\n",
    "print()\n",
    "print(\"Data Types of Each Column in Dataset:\")\n",
    "print()\n",
    "print(dataset.info())\n",
    "print()\n",
    "print (\"-------------------------------------------------------\")"
   ]
  },
  {
   "cell_type": "code",
   "execution_count": null,
   "id": "c1b9fa94",
   "metadata": {
    "colab": {
     "base_uri": "https://localhost:8080/",
     "height": 372
    },
    "executionInfo": {
     "elapsed": 48,
     "status": "ok",
     "timestamp": 1751060468181,
     "user": {
      "displayName": "ABDUL MUQEET",
      "userId": "16980373299016886552"
     },
     "user_tz": -300
    },
    "id": "c1b9fa94",
    "outputId": "8f2f3245-8db6-48f2-fa13-02d171192c47"
   },
   "outputs": [],
   "source": [
    "dataset.describe()"
   ]
  },
  {
   "cell_type": "markdown",
   "id": "d20e242f",
   "metadata": {
    "id": "d20e242f"
   },
   "source": [
    "# Dataset Preprocessing"
   ]
  },
  {
   "cell_type": "markdown",
   "id": "cf263ecd",
   "metadata": {
    "id": "cf263ecd"
   },
   "source": [
    "<b> Handling Missing Values </b>"
   ]
  },
  {
   "cell_type": "code",
   "execution_count": null,
   "id": "b2125121",
   "metadata": {
    "colab": {
     "base_uri": "https://localhost:8080/",
     "height": 1000
    },
    "executionInfo": {
     "elapsed": 230,
     "status": "ok",
     "timestamp": 1751060468416,
     "user": {
      "displayName": "ABDUL MUQEET",
      "userId": "16980373299016886552"
     },
     "user_tz": -300
    },
    "id": "b2125121",
    "outputId": "d0c6ef3c-e987-460c-f274-83fa62bf0b03"
   },
   "outputs": [],
   "source": [
    "for column in dataset.columns:\n",
    "    if dataset[column].dtype == 'object':\n",
    "        dataset[column] = dataset[column].fillna(dataset[column].mode()[0])\n",
    "    else:\n",
    "        dataset[column] = dataset[column].fillna(dataset[column].mean())\n",
    "\n",
    "print(\"-------------------------------------------------------- Dataset after filling Nulls -------------------------------------------------------\")\n",
    "dataset"
   ]
  },
  {
   "cell_type": "markdown",
   "id": "9996066d",
   "metadata": {
    "id": "9996066d"
   },
   "source": [
    "<b> Dataset info after filling empty values </b>"
   ]
  },
  {
   "cell_type": "code",
   "execution_count": null,
   "id": "3887c15b",
   "metadata": {
    "colab": {
     "base_uri": "https://localhost:8080/"
    },
    "executionInfo": {
     "elapsed": 27,
     "status": "ok",
     "timestamp": 1751060468449,
     "user": {
      "displayName": "ABDUL MUQEET",
      "userId": "16980373299016886552"
     },
     "user_tz": -300
    },
    "id": "3887c15b",
    "outputId": "8e698651-91f5-457b-c526-2f20143b1d69"
   },
   "outputs": [],
   "source": [
    "print(\"---------------------- Dataset info ----------------------\")\n",
    "print(\"Total Null Entries in Each Column in Dataset:\")\n",
    "print(dataset.isnull().sum())\n",
    "print(\"Total Null Entries: \", dataset.isnull().sum().sum())\n",
    "print()\n",
    "print (\"-------------------------------------------------------\")"
   ]
  },
  {
   "cell_type": "markdown",
   "id": "xHP8JKpYuuuA",
   "metadata": {
    "id": "xHP8JKpYuuuA"
   },
   "source": [
    "<b> Feature Correlation with each other (Numerical Columns) </b>"
   ]
  },
  {
   "cell_type": "code",
   "execution_count": null,
   "id": "QDTba8BHvIA0",
   "metadata": {
    "colab": {
     "base_uri": "https://localhost:8080/",
     "height": 1000
    },
    "executionInfo": {
     "elapsed": 1363,
     "status": "ok",
     "timestamp": 1751060469808,
     "user": {
      "displayName": "ABDUL MUQEET",
      "userId": "16980373299016886552"
     },
     "user_tz": -300
    },
    "id": "QDTba8BHvIA0",
    "outputId": "ba9d5880-2249-4dff-cf5e-4bb91c47112b"
   },
   "outputs": [],
   "source": [
    "numeric_cols = dataset.select_dtypes(include=['float64', 'int64']).columns\n",
    "\n",
    "# Step 2: Compute correlation matrix\n",
    "corr_matrix = dataset[numeric_cols].corr()\n",
    "\n",
    "# Step 3: Plot the heatmap\n",
    "print(\"\\n Feature Correlation Heatmap (Numerical Columns):\")\n",
    "plt.figure(figsize=(14, 10))\n",
    "sns.heatmap(corr_matrix, annot=True, cmap='coolwarm', fmt=\".2f\", linewidths=0.5)\n",
    "plt.title(\"Correlation Matrix of Numerical Features\")\n",
    "plt.xticks(rotation=57)\n",
    "plt.yticks(rotation=0)\n",
    "plt.tight_layout()\n",
    "plt.show()"
   ]
  },
  {
   "cell_type": "markdown",
   "id": "63kr02Jnz_O_",
   "metadata": {
    "id": "63kr02Jnz_O_"
   },
   "source": [
    "<b> Dataset is inbalance so removing classes with only one element for better model training</b>"
   ]
  },
  {
   "cell_type": "code",
   "execution_count": null,
   "id": "ThWIyKuw8Pb5",
   "metadata": {
    "id": "ThWIyKuw8Pb5"
   },
   "outputs": [],
   "source": [
    "class_counts = dataset['predicted_job'].value_counts()\n",
    "valid_classes = class_counts[class_counts > 2].index\n",
    "df_filtered = dataset[dataset['predicted_job'].isin(valid_classes)]"
   ]
  },
  {
   "cell_type": "markdown",
   "id": "bdd851d6",
   "metadata": {
    "id": "bdd851d6"
   },
   "source": [
    "<b> Encoding categorical features: </b>"
   ]
  },
  {
   "cell_type": "code",
   "execution_count": null,
   "id": "a89e2851",
   "metadata": {
    "colab": {
     "base_uri": "https://localhost:8080/"
    },
    "executionInfo": {
     "elapsed": 17,
     "status": "ok",
     "timestamp": 1751060469842,
     "user": {
      "displayName": "ABDUL MUQEET",
      "userId": "16980373299016886552"
     },
     "user_tz": -300
    },
    "id": "a89e2851",
    "outputId": "b9df031e-2aa0-4297-b4c4-d91e255885fd"
   },
   "outputs": [],
   "source": [
    "label_enc = LabelEncoder()\n",
    "\n",
    "# Label Encoding Target variable\n",
    "y = label_enc.fit_transform(df_filtered['predicted_job'])\n",
    "\n",
    "# Dropping the target from features before one-hot encoding\n",
    "X = df_filtered.drop(columns=['predicted_job'])\n",
    "\n",
    "# One-hot encoding remaining categorical features\n",
    "X = pd.get_dummies(X, drop_first=True)\n",
    "\n",
    "print (\"-------------------------------------------------------- Target Variable after Label Encoding -------------------------------------------------------\")\n",
    "print(y)\n",
    "print(\"-------------------------------------------------------- Description of Label Encoding -------------------------------------------------------\")\n",
    "for i, class_name in enumerate(label_enc.classes_):\n",
    "    print(f\"{i} -> {class_name}\")\n"
   ]
  },
  {
   "cell_type": "markdown",
   "id": "bfb7312c",
   "metadata": {
    "id": "bfb7312c"
   },
   "source": [
    "# Scalling Features"
   ]
  },
  {
   "cell_type": "code",
   "execution_count": null,
   "id": "6a370898",
   "metadata": {
    "colab": {
     "base_uri": "https://localhost:8080/"
    },
    "executionInfo": {
     "elapsed": 12,
     "status": "ok",
     "timestamp": 1751060469857,
     "user": {
      "displayName": "ABDUL MUQEET",
      "userId": "16980373299016886552"
     },
     "user_tz": -300
    },
    "id": "6a370898",
    "outputId": "9faaa6f2-7480-4caf-9b82-29da557dc2d9"
   },
   "outputs": [],
   "source": [
    "scaler = StandardScaler()\n",
    "X_scaled = scaler.fit_transform(X)\n",
    "print(X_scaled)"
   ]
  },
  {
   "cell_type": "markdown",
   "id": "24beefd6",
   "metadata": {
    "id": "24beefd6"
   },
   "source": [
    "# Dataset Splitting"
   ]
  },
  {
   "cell_type": "code",
   "execution_count": null,
   "id": "3f6ab9e8",
   "metadata": {
    "id": "3f6ab9e8"
   },
   "outputs": [],
   "source": [
    "X = X_scaled\n",
    "X_train, X_test, y_train, y_test = train_test_split (X, y, test_size=0.25, random_state=42, stratify=y)"
   ]
  },
  {
   "cell_type": "markdown",
   "id": "21a9deec",
   "metadata": {
    "id": "21a9deec"
   },
   "source": [
    "# Model Implementation"
   ]
  },
  {
   "cell_type": "markdown",
   "id": "922018c1",
   "metadata": {
    "id": "922018c1"
   },
   "source": [
    "<b> 1. Logistic Regression </b>"
   ]
  },
  {
   "cell_type": "code",
   "execution_count": null,
   "id": "46731c3c",
   "metadata": {
    "colab": {
     "base_uri": "https://localhost:8080/"
    },
    "executionInfo": {
     "elapsed": 30,
     "status": "ok",
     "timestamp": 1751060469896,
     "user": {
      "displayName": "ABDUL MUQEET",
      "userId": "16980373299016886552"
     },
     "user_tz": -300
    },
    "id": "46731c3c",
    "outputId": "4df96011-685c-4bad-f81e-322bb8f01ccc"
   },
   "outputs": [],
   "source": [
    "LogisticRegression_model = LogisticRegression()\n",
    "LogisticRegression_model.fit(X_train, y_train)\n",
    "y_pred_log = LogisticRegression_model.predict(X_test)\n",
    "print (\"-------------------------------------------------------- Logistic Regression Model -------------------------------------------------------\")\n",
    "print(\"Model Accuracy:\", LogisticRegression_model.score(X_test, y_test))\n",
    "print(\"-------------------------------------------------------- Classification Report -------------------------------------------------------\")\n",
    "print(classification_report(y_test, y_pred_log, zero_division=0))\n",
    "print(\"-------------------------------------------------------- Confusion Matrix -------------------------------------------------------\")\n",
    "print(confusion_matrix(y_test, y_pred_log))\n",
    "print(\"---------------------------------------------------------------------------------------------------------------------------------\")"
   ]
  },
  {
   "cell_type": "markdown",
   "id": "f186d8a7",
   "metadata": {
    "id": "f186d8a7"
   },
   "source": [
    "<b> 2. Decision Tree </b>"
   ]
  },
  {
   "cell_type": "code",
   "execution_count": null,
   "id": "3e28fac1",
   "metadata": {
    "colab": {
     "base_uri": "https://localhost:8080/"
    },
    "executionInfo": {
     "elapsed": 18,
     "status": "ok",
     "timestamp": 1751060469918,
     "user": {
      "displayName": "ABDUL MUQEET",
      "userId": "16980373299016886552"
     },
     "user_tz": -300
    },
    "id": "3e28fac1",
    "outputId": "371b63bf-bc94-45a6-fc92-e8297c3b6102"
   },
   "outputs": [],
   "source": [
    "dtree = DecisionTreeClassifier()\n",
    "dtree.fit(X_train, y_train)\n",
    "\n",
    "y_pred_dt = dtree.predict(X_test)\n",
    "print (\"-------------------------------------------------------- Decision Tree Model -------------------------------------------------------\")\n",
    "print(\"Model Accuracy:\", dtree.score(X_test, y_test))\n",
    "print(\"-------------------------------------------------------- Classification Report -------------------------------------------------------\")\n",
    "print(classification_report(y_test, y_pred_dt, zero_division=0))\n",
    "print(\"-------------------------------------------------------- Confusion Matrix -------------------------------------------------------\")\n",
    "print(confusion_matrix(y_test, y_pred_dt))\n",
    "print(\"---------------------------------------------------------------------------------------------------------------------------------\")"
   ]
  },
  {
   "cell_type": "markdown",
   "id": "8c96bb51",
   "metadata": {
    "id": "8c96bb51"
   },
   "source": [
    "# 3. KNN"
   ]
  },
  {
   "cell_type": "code",
   "execution_count": null,
   "id": "f45da4e6",
   "metadata": {
    "colab": {
     "base_uri": "https://localhost:8080/"
    },
    "executionInfo": {
     "elapsed": 10,
     "status": "ok",
     "timestamp": 1751060469934,
     "user": {
      "displayName": "ABDUL MUQEET",
      "userId": "16980373299016886552"
     },
     "user_tz": -300
    },
    "id": "f45da4e6",
    "outputId": "aab823c3-f67f-4af0-e7c5-ddd201d0a7b0"
   },
   "outputs": [],
   "source": [
    "knn = KNeighborsClassifier()\n",
    "knn.fit(X_train, y_train)\n",
    "y_pred_knn = knn.predict(X_test)\n",
    "print (\"-------------------------------------------------------- K-Nearest Neighbors Model -------------------------------------------------------\")\n",
    "print(\"Model Accuracy:\", knn.score(X_test, y_test))\n",
    "print(\"-------------------------------------------------------- Classification Report -------------------------------------------------------\")\n",
    "print(classification_report(y_test, y_pred_knn, zero_division=0))\n",
    "print(\"-------------------------------------------------------- Confusion Matrix -------------------------------------------------------\")\n",
    "print(confusion_matrix(y_test, y_pred_knn))\n",
    "print(\"---------------------------------------------------------------------------------------------------------------------------------\")"
   ]
  },
  {
   "cell_type": "markdown",
   "id": "bc2e3032",
   "metadata": {
    "id": "bc2e3032"
   },
   "source": [
    "# 4.Naive Bayes"
   ]
  },
  {
   "cell_type": "code",
   "execution_count": null,
   "id": "a13ca7cc",
   "metadata": {
    "colab": {
     "base_uri": "https://localhost:8080/"
    },
    "executionInfo": {
     "elapsed": 9,
     "status": "ok",
     "timestamp": 1751060469947,
     "user": {
      "displayName": "ABDUL MUQEET",
      "userId": "16980373299016886552"
     },
     "user_tz": -300
    },
    "id": "a13ca7cc",
    "outputId": "c6f2bbff-f79a-454e-e5ba-8a4baaf202a1"
   },
   "outputs": [],
   "source": [
    "nb = GaussianNB()\n",
    "nb.fit(X_train, y_train)\n",
    "y_pred_nb = nb.predict(X_test)\n",
    "print (\"-------------------------------------------------------- Naive Bayes Model -------------------------------------------------------\")\n",
    "print(\"Model Accuracy:\", nb.score(X_test, y_test))\n",
    "print(\"-------------------------------------------------------- Classification Report -------------------------------------------------------\")\n",
    "print(classification_report(y_test, y_pred_nb, zero_division=0))\n",
    "print(\"-------------------------------------------------------- Confusion Matrix -------------------------------------------------------\")\n",
    "print(confusion_matrix(y_test, y_pred_nb))\n",
    "print(\"---------------------------------------------------------------------------------------------------------------------------------\")"
   ]
  },
  {
   "cell_type": "markdown",
   "id": "88b253dd",
   "metadata": {
    "id": "88b253dd"
   },
   "source": [
    "# 5. Random Forest"
   ]
  },
  {
   "cell_type": "code",
   "execution_count": null,
   "id": "23e00e55",
   "metadata": {
    "colab": {
     "base_uri": "https://localhost:8080/"
    },
    "executionInfo": {
     "elapsed": 13,
     "status": "ok",
     "timestamp": 1751060469963,
     "user": {
      "displayName": "ABDUL MUQEET",
      "userId": "16980373299016886552"
     },
     "user_tz": -300
    },
    "id": "23e00e55",
    "outputId": "ede947c4-c679-4906-ffb4-eb04058c2220"
   },
   "outputs": [],
   "source": [
    "rf = RandomForestClassifier()\n",
    "rf.fit(X_train, y_train)\n",
    "\n",
    "y_pred_rf = rf.predict(X_test)\n",
    "print (\"-------------------------------------------------------- Random Forest Model -------------------------------------------------------\")\n",
    "print(\"Model Accuracy:\", rf.score(X_test, y_test))\n",
    "print(\"-------------------------------------------------------- Classification Report -------------------------------------------------------\")\n",
    "print(classification_report(y_test, y_pred_rf, zero_division=0))\n",
    "print(\"-------------------------------------------------------- Confusion Matrix -------------------------------------------------------\")\n",
    "print(confusion_matrix(y_test, y_pred_rf))\n",
    "print(\"---------------------------------------------------------------------------------------------------------------------------------\")"
   ]
  },
  {
   "cell_type": "markdown",
   "id": "dab93a1f",
   "metadata": {
    "id": "dab93a1f"
   },
   "source": [
    "# Evaluation"
   ]
  },
  {
   "cell_type": "markdown",
   "id": "d00ec379",
   "metadata": {
    "id": "d00ec379"
   },
   "source": [
    "# 1. Logistic Regression"
   ]
  },
  {
   "cell_type": "markdown",
   "id": "2203c0b6",
   "metadata": {
    "id": "2203c0b6"
   },
   "source": [
    "<b>a. Accuracy, Precision, Recall and F1-Score </b>"
   ]
  },
  {
   "cell_type": "code",
   "execution_count": null,
   "id": "1c715700",
   "metadata": {
    "colab": {
     "base_uri": "https://localhost:8080/"
    },
    "executionInfo": {
     "elapsed": 19,
     "status": "ok",
     "timestamp": 1751060469985,
     "user": {
      "displayName": "ABDUL MUQEET",
      "userId": "16980373299016886552"
     },
     "user_tz": -300
    },
    "id": "1c715700",
    "outputId": "4b1d96ea-c17d-4de3-f3fe-9abb399e322c"
   },
   "outputs": [],
   "source": [
    "print(\"-------------------------------------------------------- Random Forest Performance -------------------------------------------------------\")\n",
    "print(\"Accuracy:\", accuracy_score(y_test, y_pred_log))\n",
    "print(\"Precision:\", precision_score(y_test, y_pred_log, average='weighted', zero_division=0))\n",
    "print(\"Recall:\", recall_score(y_test, y_pred_log, average='weighted', zero_division=0))\n",
    "print(\"F1 Score:\", f1_score(y_test, y_pred_log, average='weighted', zero_division=0))\n",
    "print()"
   ]
  },
  {
   "cell_type": "markdown",
   "id": "1f464c21",
   "metadata": {
    "id": "1f464c21"
   },
   "source": [
    "<b>b. Confusion Matrix (Heat-map) </b>"
   ]
  },
  {
   "cell_type": "code",
   "execution_count": null,
   "id": "517522c6",
   "metadata": {
    "colab": {
     "base_uri": "https://localhost:8080/",
     "height": 472
    },
    "executionInfo": {
     "elapsed": 599,
     "status": "ok",
     "timestamp": 1751060470579,
     "user": {
      "displayName": "ABDUL MUQEET",
      "userId": "16980373299016886552"
     },
     "user_tz": -300
    },
    "id": "517522c6",
    "outputId": "8a752b06-2f79-47f8-c702-7e95e857cb05"
   },
   "outputs": [],
   "source": [
    "sns.heatmap(confusion_matrix(y_test, y_pred_log), annot=True, fmt='d', cmap='Greens')\n",
    "plt.title(\"Confusion Matrix - Logistic Regression\")\n",
    "plt.xlabel(\"Predicted\")\n",
    "plt.ylabel(\"Actual\")\n",
    "plt.show()"
   ]
  },
  {
   "cell_type": "markdown",
   "id": "30ad6fec",
   "metadata": {
    "id": "30ad6fec"
   },
   "source": [
    "<b> c. Roc Curve </b>"
   ]
  },
  {
   "cell_type": "code",
   "execution_count": null,
   "id": "66f99eb2",
   "metadata": {
    "colab": {
     "base_uri": "https://localhost:8080/",
     "height": 827
    },
    "executionInfo": {
     "elapsed": 480,
     "status": "ok",
     "timestamp": 1751060471061,
     "user": {
      "displayName": "ABDUL MUQEET",
      "userId": "16980373299016886552"
     },
     "user_tz": -300
    },
    "id": "66f99eb2",
    "outputId": "8a993bf3-4e7d-47f2-8500-c34e81c5036d"
   },
   "outputs": [],
   "source": [
    "# For multiclass ROC\n",
    "y_test_bin = label_binarize(y_test, classes=np.unique(y))\n",
    "y_pred_prob = LogisticRegression_model.predict_proba(X_test)\n",
    "n_classes = y_test_bin.shape[1]\n",
    "\n",
    "# Plot each class's ROC\n",
    "plt.figure(figsize=(10, 7))\n",
    "for i in range(n_classes):\n",
    "    fpr, tpr, _ = roc_curve(y_test_bin[:, i], y_pred_prob[:, i])\n",
    "    roc_auc = auc(fpr, tpr)\n",
    "    plt.plot(fpr, tpr, label=f\"Class {i} (AUC = {roc_auc:.2f})\")\n",
    "\n",
    "plt.plot([0, 1], [0, 1], 'k--')\n",
    "plt.xlim([0.0, 1.0])\n",
    "plt.ylim([0.0, 1.05])\n",
    "plt.xlabel(\"False Positive Rate\")\n",
    "plt.ylabel(\"True Positive Rate\")\n",
    "plt.title(\"ROC Curve - Logistic Regression\")\n",
    "plt.legend(loc=\"upper center\", bbox_to_anchor=(0.5, -0.25), ncol=4)\n",
    "plt.show()"
   ]
  },
  {
   "cell_type": "markdown",
   "id": "c72ada66",
   "metadata": {
    "id": "c72ada66"
   },
   "source": [
    "# 2. Decision Tree"
   ]
  },
  {
   "cell_type": "markdown",
   "id": "a9c78f97",
   "metadata": {
    "id": "a9c78f97"
   },
   "source": [
    "<b>a. Accuracy, Precision, Recall and F1-Score </b>"
   ]
  },
  {
   "cell_type": "code",
   "execution_count": null,
   "id": "4c859aba",
   "metadata": {
    "colab": {
     "base_uri": "https://localhost:8080/"
    },
    "executionInfo": {
     "elapsed": 39,
     "status": "ok",
     "timestamp": 1751060471107,
     "user": {
      "displayName": "ABDUL MUQEET",
      "userId": "16980373299016886552"
     },
     "user_tz": -300
    },
    "id": "4c859aba",
    "outputId": "70b43029-ae2b-415d-e144-91a83bb2fad2"
   },
   "outputs": [],
   "source": [
    "print(\"-------------------------------------------------------- Decision Tree Performance -------------------------------------------------------\")\n",
    "print(\"Accuracy:\", accuracy_score(y_test, y_pred_dt))\n",
    "print(\"Precision:\", precision_score(y_test, y_pred_dt, average='weighted', zero_division=0))\n",
    "print(\"Recall:\", recall_score(y_test, y_pred_dt, average='weighted', zero_division=0))\n",
    "print(\"F1 Score:\", f1_score(y_test, y_pred_dt, average='weighted', zero_division=0))\n",
    "print()"
   ]
  },
  {
   "cell_type": "markdown",
   "id": "5b529b8d",
   "metadata": {
    "id": "5b529b8d"
   },
   "source": [
    "<b>b. Confussion Matrix (Heat-Map) </b>"
   ]
  },
  {
   "cell_type": "code",
   "execution_count": null,
   "id": "fc384f1d",
   "metadata": {
    "colab": {
     "base_uri": "https://localhost:8080/",
     "height": 807
    },
    "executionInfo": {
     "elapsed": 824,
     "status": "ok",
     "timestamp": 1751060471929,
     "user": {
      "displayName": "ABDUL MUQEET",
      "userId": "16980373299016886552"
     },
     "user_tz": -300
    },
    "id": "fc384f1d",
    "outputId": "70c7bca4-e049-4955-86cf-c2d718ce690e"
   },
   "outputs": [],
   "source": [
    "plt.figure(figsize=(12, 8))\n",
    "sns.heatmap(confusion_matrix(y_test, y_pred_dt), annot=True, fmt='d', cmap='Blues')\n",
    "plt.title(\"Confusion Matrix - Decision Tree\")\n",
    "plt.xlabel(\"Predicted\")\n",
    "plt.ylabel(\"Actual\")\n",
    "plt.tight_layout()\n",
    "plt.show()"
   ]
  },
  {
   "cell_type": "markdown",
   "id": "84442587",
   "metadata": {
    "id": "84442587"
   },
   "source": [
    "<b> c. Roc Curves </b>"
   ]
  },
  {
   "cell_type": "code",
   "execution_count": null,
   "id": "9074d410",
   "metadata": {
    "colab": {
     "base_uri": "https://localhost:8080/",
     "height": 660
    },
    "executionInfo": {
     "elapsed": 576,
     "status": "ok",
     "timestamp": 1751060472516,
     "user": {
      "displayName": "ABDUL MUQEET",
      "userId": "16980373299016886552"
     },
     "user_tz": -300
    },
    "id": "9074d410",
    "outputId": "fe33595b-4730-4508-9beb-9d69a57789e1"
   },
   "outputs": [],
   "source": [
    "y_test_bin = label_binarize(y_test, classes=np.unique(y))\n",
    "y_pred_prob_dt = dtree.predict_proba(X_test)\n",
    "n_classes = y_test_bin.shape[1]\n",
    "\n",
    "plt.figure(figsize=(10, 7))\n",
    "for i in range(n_classes):\n",
    "    fpr, tpr, _ = roc_curve(y_test_bin[:, i], y_pred_prob_dt[:, i])\n",
    "    roc_auc = auc(fpr, tpr)\n",
    "    plt.plot(fpr, tpr, label=f\"Class {i} (AUC = {roc_auc:.2f})\")\n",
    "\n",
    "plt.plot([0, 1], [0, 1], 'k--', label=\"Random Guess\")\n",
    "plt.xlim([0.0, 1.0])\n",
    "plt.ylim([0.0, 1.05])\n",
    "plt.xlabel(\"False Positive Rate\")\n",
    "plt.ylabel(\"True Positive Rate\")\n",
    "plt.title(\"ROC Curve - Decision Tree\")\n",
    "plt.legend(loc=\"upper center\", bbox_to_anchor=(0.5, -0.3), ncol=4, fontsize='small')\n",
    "plt.tight_layout()\n",
    "plt.show()"
   ]
  },
  {
   "cell_type": "markdown",
   "id": "8d835c5c",
   "metadata": {
    "id": "8d835c5c"
   },
   "source": [
    "# 3. KNN"
   ]
  },
  {
   "cell_type": "markdown",
   "id": "78ff9933",
   "metadata": {
    "id": "78ff9933"
   },
   "source": [
    "<b>a. Accuracy, Precision, Recall and F1-Score </b>"
   ]
  },
  {
   "cell_type": "code",
   "execution_count": null,
   "id": "YBtf7irYgDW0",
   "metadata": {
    "colab": {
     "base_uri": "https://localhost:8080/"
    },
    "executionInfo": {
     "elapsed": 37,
     "status": "ok",
     "timestamp": 1751060472558,
     "user": {
      "displayName": "ABDUL MUQEET",
      "userId": "16980373299016886552"
     },
     "user_tz": -300
    },
    "id": "YBtf7irYgDW0",
    "outputId": "947a1368-7648-4fea-e94e-54443d36fa80"
   },
   "outputs": [],
   "source": [
    "print(\"-------------------------------------------------------- K-Nearest Neighbors Classification -------------------------------------------------------\")\n",
    "print(\"Accuracy:\", accuracy_score(y_test, y_pred_knn))\n",
    "print(\"Precision:\", precision_score(y_test, y_pred_knn, average='weighted', zero_division=0))\n",
    "print(\"Recall:\", recall_score(y_test, y_pred_knn, average='weighted', zero_division=0))\n",
    "print(\"F1 Score:\", f1_score(y_test, y_pred_knn, average='weighted', zero_division=0))\n",
    "print(\"\\nClassification Report:\\n\", classification_report(y_test, y_pred_knn, zero_division=0))\n",
    "print()"
   ]
  },
  {
   "cell_type": "markdown",
   "id": "f06d4c34",
   "metadata": {
    "id": "f06d4c34"
   },
   "source": [
    "<b>b. Confussion Matrix (Heat-Map) </b>"
   ]
  },
  {
   "cell_type": "code",
   "execution_count": null,
   "id": "e093ff28",
   "metadata": {
    "colab": {
     "base_uri": "https://localhost:8080/",
     "height": 807
    },
    "executionInfo": {
     "elapsed": 1842,
     "status": "ok",
     "timestamp": 1751060474399,
     "user": {
      "displayName": "ABDUL MUQEET",
      "userId": "16980373299016886552"
     },
     "user_tz": -300
    },
    "id": "e093ff28",
    "outputId": "732ade25-a6c2-48c3-fbd7-1ff7d2acd4dc"
   },
   "outputs": [],
   "source": [
    "plt.figure(figsize=(12, 8))\n",
    "sns.heatmap(confusion_matrix(y_test, y_pred_knn), annot=True, fmt='d', cmap='Purples')\n",
    "plt.title(\"Confusion Matrix - KNN\")\n",
    "plt.xlabel(\"Predicted\")\n",
    "plt.ylabel(\"Actual\")\n",
    "plt.tight_layout()\n",
    "plt.show()"
   ]
  },
  {
   "cell_type": "markdown",
   "id": "4b12d90c",
   "metadata": {
    "id": "4b12d90c"
   },
   "source": [
    "<b> c. Roc Curves </b>"
   ]
  },
  {
   "cell_type": "code",
   "execution_count": null,
   "id": "1e1bc46e",
   "metadata": {
    "colab": {
     "base_uri": "https://localhost:8080/",
     "height": 660
    },
    "executionInfo": {
     "elapsed": 3526,
     "status": "ok",
     "timestamp": 1751060477930,
     "user": {
      "displayName": "ABDUL MUQEET",
      "userId": "16980373299016886552"
     },
     "user_tz": -300
    },
    "id": "1e1bc46e",
    "outputId": "682efa6c-e3a6-46e9-c33e-918c94bee1c1"
   },
   "outputs": [],
   "source": [
    "y_test_bin = label_binarize(y_test, classes=np.unique(y))\n",
    "y_pred_prob_knn = knn.predict_proba(X_test)\n",
    "n_classes = y_test_bin.shape[1]\n",
    "\n",
    "plt.figure(figsize=(10, 7))\n",
    "for i in range(n_classes):\n",
    "    fpr, tpr, _ = roc_curve(y_test_bin[:, i], y_pred_prob_knn[:, i])\n",
    "    roc_auc = auc(fpr, tpr)\n",
    "    plt.plot(fpr, tpr, label=f\"Class {i} (AUC = {roc_auc:.2f})\")\n",
    "\n",
    "plt.plot([0, 1], [0, 1], 'k--', label=\"Random Guess\")\n",
    "plt.xlim([0.0, 1.0])\n",
    "plt.ylim([0.0, 1.05])\n",
    "plt.xlabel(\"False Positive Rate\")\n",
    "plt.ylabel(\"True Positive Rate\")\n",
    "plt.title(\"ROC Curve - KNN\")\n",
    "plt.legend(loc=\"upper center\", bbox_to_anchor=(0.5, -0.3), ncol=4, fontsize='small')\n",
    "plt.tight_layout()\n",
    "plt.show()"
   ]
  },
  {
   "cell_type": "markdown",
   "id": "e419ef43",
   "metadata": {
    "id": "e419ef43"
   },
   "source": [
    "# 4. Naive Bayse"
   ]
  },
  {
   "cell_type": "markdown",
   "id": "7fbebdf9",
   "metadata": {
    "id": "7fbebdf9"
   },
   "source": [
    "<b>a. Accuracy, Precision, Recall and F1-Score </b>"
   ]
  },
  {
   "cell_type": "code",
   "execution_count": null,
   "id": "0f431ca8",
   "metadata": {
    "colab": {
     "base_uri": "https://localhost:8080/"
    },
    "executionInfo": {
     "elapsed": 21,
     "status": "ok",
     "timestamp": 1751060477955,
     "user": {
      "displayName": "ABDUL MUQEET",
      "userId": "16980373299016886552"
     },
     "user_tz": -300
    },
    "id": "0f431ca8",
    "outputId": "8deb8e73-b6f3-4333-bf76-3ee1a6988f32"
   },
   "outputs": [],
   "source": [
    "print(\"-------------------------------------------------------- Naive Bayes Classification -------------------------------------------------------\")\n",
    "print(\"Accuracy:\", accuracy_score(y_test, y_pred_nb))\n",
    "print(\"Precision:\", precision_score(y_test, y_pred_nb, average='weighted', zero_division=0))\n",
    "print(\"Recall:\", recall_score(y_test, y_pred_nb, average='weighted', zero_division=0))\n",
    "print(\"F1 Score:\", f1_score(y_test, y_pred_nb, average='weighted', zero_division=0))\n",
    "print(\"\\nClassification Report:\\n\", classification_report(y_test, y_pred_nb, zero_division=0))\n",
    "print()"
   ]
  },
  {
   "cell_type": "markdown",
   "id": "d77f95d9",
   "metadata": {
    "id": "d77f95d9"
   },
   "source": [
    "<b> b. Confussion Matrix (Heat-map) </b>"
   ]
  },
  {
   "cell_type": "code",
   "execution_count": null,
   "id": "b42d6103",
   "metadata": {
    "colab": {
     "base_uri": "https://localhost:8080/",
     "height": 807
    },
    "executionInfo": {
     "elapsed": 1464,
     "status": "ok",
     "timestamp": 1751060479418,
     "user": {
      "displayName": "ABDUL MUQEET",
      "userId": "16980373299016886552"
     },
     "user_tz": -300
    },
    "id": "b42d6103",
    "outputId": "7f7fa911-f02f-4528-c21a-bb4f488664ca"
   },
   "outputs": [],
   "source": [
    "plt.figure(figsize=(12, 8))\n",
    "sns.heatmap(confusion_matrix(y_test, y_pred_nb), annot=True, fmt='d', cmap='Oranges')\n",
    "plt.title(\"Confusion Matrix - Naive Bayes\")\n",
    "plt.xlabel(\"Predicted\")\n",
    "plt.ylabel(\"Actual\")\n",
    "plt.tight_layout()\n",
    "plt.show()"
   ]
  },
  {
   "cell_type": "markdown",
   "id": "5d1b7c82",
   "metadata": {
    "id": "5d1b7c82"
   },
   "source": [
    "<b> c. Roc Curves </b>"
   ]
  },
  {
   "cell_type": "code",
   "execution_count": null,
   "id": "1cbd63d4",
   "metadata": {
    "colab": {
     "base_uri": "https://localhost:8080/",
     "height": 660
    },
    "executionInfo": {
     "elapsed": 1091,
     "status": "ok",
     "timestamp": 1751060480513,
     "user": {
      "displayName": "ABDUL MUQEET",
      "userId": "16980373299016886552"
     },
     "user_tz": -300
    },
    "id": "1cbd63d4",
    "outputId": "261e85b1-0bd1-45d5-cc69-0dee9c808d8a"
   },
   "outputs": [],
   "source": [
    "y_test_bin = label_binarize(y_test, classes=np.unique(y))\n",
    "y_pred_prob_nb = nb.predict_proba(X_test)\n",
    "n_classes = y_test_bin.shape[1]\n",
    "\n",
    "plt.figure(figsize=(10, 7))\n",
    "for i in range(n_classes):\n",
    "    fpr, tpr, _ = roc_curve(y_test_bin[:, i], y_pred_prob_nb[:, i])\n",
    "    roc_auc = auc(fpr, tpr)\n",
    "    plt.plot(fpr, tpr, label=f\"Class {i} (AUC = {roc_auc:.2f})\")\n",
    "\n",
    "plt.plot([0, 1], [0, 1], 'k--', label=\"Random Guess\")\n",
    "plt.xlim([0.0, 1.0])\n",
    "plt.ylim([0.0, 1.05])\n",
    "plt.xlabel(\"False Positive Rate\")\n",
    "plt.ylabel(\"True Positive Rate\")\n",
    "plt.title(\"ROC Curve - Naive Bayes\")\n",
    "plt.legend(loc=\"upper center\", bbox_to_anchor=(0.5, -0.3), ncol=4, fontsize='small')\n",
    "plt.tight_layout()\n",
    "plt.show()"
   ]
  },
  {
   "cell_type": "markdown",
   "id": "869967bb",
   "metadata": {
    "id": "869967bb"
   },
   "source": [
    "# 5. Random forest"
   ]
  },
  {
   "cell_type": "markdown",
   "id": "688ea017",
   "metadata": {
    "id": "688ea017"
   },
   "source": [
    "<b>a. Accuracy, Precision, Recall and F1-Score </b>"
   ]
  },
  {
   "cell_type": "code",
   "execution_count": null,
   "id": "97903ad5",
   "metadata": {
    "colab": {
     "base_uri": "https://localhost:8080/"
    },
    "executionInfo": {
     "elapsed": 13,
     "status": "ok",
     "timestamp": 1751060480530,
     "user": {
      "displayName": "ABDUL MUQEET",
      "userId": "16980373299016886552"
     },
     "user_tz": -300
    },
    "id": "97903ad5",
    "outputId": "6b720b42-1fc1-4a26-c6a7-bd66b3e2d343"
   },
   "outputs": [],
   "source": [
    "print(\"-------------------------------------------------------- Random Forest Classification -------------------------------------------------------\")\n",
    "print(\"Accuracy:\", accuracy_score(y_test, y_pred_rf))\n",
    "print(\"Precision:\", precision_score(y_test, y_pred_rf, average='weighted', zero_division=0))\n",
    "print(\"Recall:\", recall_score(y_test, y_pred_rf, average='weighted', zero_division=0))\n",
    "print(\"F1 Score:\", f1_score(y_test, y_pred_rf, average='weighted', zero_division=0))\n",
    "print(\"\\nClassification Report:\\n\", classification_report(y_test, y_pred_rf, zero_division=0))\n",
    "print()"
   ]
  },
  {
   "cell_type": "markdown",
   "id": "01968f46",
   "metadata": {
    "id": "01968f46"
   },
   "source": [
    "<b> b. Confussion Matrix (Heat-map) </b>"
   ]
  },
  {
   "cell_type": "code",
   "execution_count": null,
   "id": "e2861262",
   "metadata": {
    "colab": {
     "base_uri": "https://localhost:8080/",
     "height": 807
    },
    "executionInfo": {
     "elapsed": 1730,
     "status": "ok",
     "timestamp": 1751060482265,
     "user": {
      "displayName": "ABDUL MUQEET",
      "userId": "16980373299016886552"
     },
     "user_tz": -300
    },
    "id": "e2861262",
    "outputId": "196ecab5-a777-4899-9f4b-bc2163a9a16e"
   },
   "outputs": [],
   "source": [
    "plt.figure(figsize=(12, 8))\n",
    "sns.heatmap(confusion_matrix(y_test, y_pred_rf), annot=True, fmt='d', cmap='Greens')\n",
    "plt.title(\"Confusion Matrix - Random Forest\")\n",
    "plt.xlabel(\"Predicted\")\n",
    "plt.ylabel(\"Actual\")\n",
    "plt.tight_layout()\n",
    "plt.show()"
   ]
  },
  {
   "cell_type": "markdown",
   "id": "6aa4edb4",
   "metadata": {
    "id": "6aa4edb4"
   },
   "source": [
    "<b> c. Roc Curves </b>"
   ]
  },
  {
   "cell_type": "code",
   "execution_count": null,
   "id": "d0f978c5",
   "metadata": {
    "colab": {
     "base_uri": "https://localhost:8080/",
     "height": 660
    },
    "executionInfo": {
     "elapsed": 844,
     "status": "ok",
     "timestamp": 1751060483117,
     "user": {
      "displayName": "ABDUL MUQEET",
      "userId": "16980373299016886552"
     },
     "user_tz": -300
    },
    "id": "d0f978c5",
    "outputId": "da834e94-1394-4a01-cf5d-554fb3c208c0"
   },
   "outputs": [],
   "source": [
    "y_test_bin = label_binarize(y_test, classes=np.unique(y))\n",
    "y_pred_prob_rf = rf.predict_proba(X_test)\n",
    "n_classes = y_test_bin.shape[1]\n",
    "\n",
    "plt.figure(figsize=(10, 7))\n",
    "for i in range(n_classes):\n",
    "    fpr, tpr, _ = roc_curve(y_test_bin[:, i], y_pred_prob_rf[:, i])\n",
    "    roc_auc = auc(fpr, tpr)\n",
    "    plt.plot(fpr, tpr, label=f\"Class {i} (AUC = {roc_auc:.2f})\")\n",
    "\n",
    "plt.plot([0, 1], [0, 1], 'k--', label=\"Random Guess\")\n",
    "plt.xlim([0.0, 1.0])\n",
    "plt.ylim([0.0, 1.05])\n",
    "plt.xlabel(\"False Positive Rate\")\n",
    "plt.ylabel(\"True Positive Rate\")\n",
    "plt.title(\"ROC Curve - Random Forest\")\n",
    "plt.legend(loc=\"upper center\", bbox_to_anchor=(0.5, -0.3), ncol=4, fontsize='small')\n",
    "plt.tight_layout()\n",
    "plt.show()"
   ]
  },
  {
   "cell_type": "markdown",
   "id": "26e2dc2d",
   "metadata": {
    "id": "26e2dc2d"
   },
   "source": [
    "# Artificial Neural Network (ANN)"
   ]
  },
  {
   "cell_type": "markdown",
   "id": "5196b591",
   "metadata": {
    "id": "5196b591"
   },
   "source": [
    "<b> a. one hot encoding target variable </b>"
   ]
  },
  {
   "cell_type": "code",
   "execution_count": null,
   "id": "9865f00d",
   "metadata": {
    "id": "9865f00d"
   },
   "outputs": [],
   "source": [
    "y_train_cat = to_categorical(y_train)\n",
    "y_test_cat = to_categorical(y_test)\n",
    "num_classes = y_train_cat.shape[1]\n",
    "input_dim = X_train.shape[1]"
   ]
  },
  {
   "cell_type": "markdown",
   "id": "fbf2b63c",
   "metadata": {
    "id": "fbf2b63c"
   },
   "source": [
    "<b> b. Building Ann </b>"
   ]
  },
  {
   "cell_type": "code",
   "execution_count": null,
   "id": "992a016b",
   "metadata": {
    "id": "992a016b"
   },
   "outputs": [],
   "source": [
    "model = Sequential([\n",
    "    Input(shape=(input_dim,)),\n",
    "    Dense(128, activation='relu'),\n",
    "    Dropout(0.3),\n",
    "    Dense(64, activation='relu'),\n",
    "    Dropout(0.3),\n",
    "    Dense(num_classes, activation='softmax')\n",
    "])"
   ]
  },
  {
   "cell_type": "markdown",
   "id": "d7f7e60b",
   "metadata": {
    "id": "d7f7e60b"
   },
   "source": [
    "<b>b. Compling Model </b>"
   ]
  },
  {
   "cell_type": "code",
   "execution_count": null,
   "id": "20455b80",
   "metadata": {
    "id": "20455b80"
   },
   "outputs": [],
   "source": [
    "model.compile(loss='categorical_crossentropy',\n",
    "              optimizer='adam',\n",
    "              metrics=['accuracy'])"
   ]
  },
  {
   "cell_type": "markdown",
   "id": "55f66c74",
   "metadata": {
    "id": "55f66c74"
   },
   "source": [
    "<b>c. Training Model </b>"
   ]
  },
  {
   "cell_type": "code",
   "execution_count": null,
   "id": "fd195c5b",
   "metadata": {
    "colab": {
     "base_uri": "https://localhost:8080/"
    },
    "executionInfo": {
     "elapsed": 22341,
     "status": "ok",
     "timestamp": 1751060505545,
     "user": {
      "displayName": "ABDUL MUQEET",
      "userId": "16980373299016886552"
     },
     "user_tz": -300
    },
    "id": "fd195c5b",
    "outputId": "44c593d0-97b5-46d9-cbb5-f6c89f05846d"
   },
   "outputs": [],
   "source": [
    "history = model.fit(X_train, y_train_cat,\n",
    "                    validation_data=(X_test, y_test_cat),\n",
    "                    epochs=50,\n",
    "                    batch_size=16,\n",
    "                    verbose=1)"
   ]
  },
  {
   "cell_type": "markdown",
   "id": "478e5d20",
   "metadata": {
    "id": "478e5d20"
   },
   "source": [
    "<b> d. Evaluating </b>"
   ]
  },
  {
   "cell_type": "code",
   "execution_count": null,
   "id": "3a58d9ed",
   "metadata": {
    "colab": {
     "base_uri": "https://localhost:8080/"
    },
    "executionInfo": {
     "elapsed": 657,
     "status": "ok",
     "timestamp": 1751060506206,
     "user": {
      "displayName": "ABDUL MUQEET",
      "userId": "16980373299016886552"
     },
     "user_tz": -300
    },
    "id": "3a58d9ed",
    "outputId": "71ff9f93-aae3-47c7-92c7-b944c8565198"
   },
   "outputs": [],
   "source": [
    "y_pred_ann_probs = model.predict(X_test)\n",
    "y_pred_ann = np.argmax(y_pred_ann_probs, axis=1)\n",
    "print (\"-------------------------------------------------------- Artificial Neural Network Model -------------------------------------------------------\")\n",
    "print(\"Model Accuracy:\", accuracy_score(y_test, y_pred_ann))\n",
    "print(\"-------------------------------------------------------- Classification Report -------------------------------------------------------\")\n",
    "print(classification_report(y_test, y_pred_ann, zero_division=0))\n",
    "print(\"-------------------------------------------------------- Confusion Matrix -------------------------------------------------------\")\n",
    "print(confusion_matrix(y_test, y_pred_ann))\n",
    "print(\"---------------------------------------------------------------------------------------------------------------------------------\")"
   ]
  },
  {
   "cell_type": "markdown",
   "id": "3a032081",
   "metadata": {
    "id": "3a032081"
   },
   "source": [
    "<b>a. Accuracy, Precision, Recall and F1-Score </b>"
   ]
  },
  {
   "cell_type": "code",
   "execution_count": null,
   "id": "0c8fc8d6",
   "metadata": {
    "colab": {
     "base_uri": "https://localhost:8080/"
    },
    "executionInfo": {
     "elapsed": 118,
     "status": "ok",
     "timestamp": 1751060506370,
     "user": {
      "displayName": "ABDUL MUQEET",
      "userId": "16980373299016886552"
     },
     "user_tz": -300
    },
    "id": "0c8fc8d6",
    "outputId": "bdcc0d17-53c9-44ec-cc41-b35c5307089a"
   },
   "outputs": [],
   "source": [
    "print(\"-------------------------------------------------------- Random Forest Classification -------------------------------------------------------\")\n",
    "print(\"Accuracy:\", accuracy_score(y_test, y_pred_ann))\n",
    "print(\"Precision:\", precision_score(y_test, y_pred_ann, average='weighted', zero_division=0))\n",
    "print(\"Recall:\", recall_score(y_test, y_pred_ann, average='weighted', zero_division=0))\n",
    "print(\"F1 Score:\", f1_score(y_test, y_pred_ann, average='weighted', zero_division=0))\n",
    "print(\"\\nClassification Report:\\n\", classification_report(y_test, y_pred_ann, zero_division=0))\n",
    "print()"
   ]
  },
  {
   "cell_type": "markdown",
   "id": "d692fa01",
   "metadata": {
    "id": "d692fa01"
   },
   "source": [
    "<b> b. Confusion Matrix (Heat-map) </b>"
   ]
  },
  {
   "cell_type": "code",
   "execution_count": null,
   "id": "a6bafb2f",
   "metadata": {
    "colab": {
     "base_uri": "https://localhost:8080/",
     "height": 807
    },
    "executionInfo": {
     "elapsed": 801,
     "status": "ok",
     "timestamp": 1751060507174,
     "user": {
      "displayName": "ABDUL MUQEET",
      "userId": "16980373299016886552"
     },
     "user_tz": -300
    },
    "id": "a6bafb2f",
    "outputId": "47d4a8c3-b6e7-4ac2-e783-e6dde49710dd"
   },
   "outputs": [],
   "source": [
    "plt.figure(figsize=(12, 8))\n",
    "sns.heatmap(confusion_matrix(y_test, y_pred_ann), annot=True, fmt='d', cmap='Purples')\n",
    "plt.title(\"Confusion Matrix - ANN\")\n",
    "plt.xlabel(\"Predicted\")\n",
    "plt.ylabel(\"Actual\")\n",
    "plt.tight_layout()\n",
    "plt.show()"
   ]
  },
  {
   "cell_type": "markdown",
   "id": "ddbf006e",
   "metadata": {
    "id": "ddbf006e"
   },
   "source": [
    "<b> c. Roc Curves </b>"
   ]
  },
  {
   "cell_type": "code",
   "execution_count": null,
   "id": "f9435718",
   "metadata": {
    "colab": {
     "base_uri": "https://localhost:8080/",
     "height": 660
    },
    "executionInfo": {
     "elapsed": 352,
     "status": "ok",
     "timestamp": 1751060507530,
     "user": {
      "displayName": "ABDUL MUQEET",
      "userId": "16980373299016886552"
     },
     "user_tz": -300
    },
    "id": "f9435718",
    "outputId": "60489e11-164b-4565-bd9e-a2597fa1e4e8"
   },
   "outputs": [],
   "source": [
    "y_test_bin = to_categorical(y_test, num_classes=num_classes)\n",
    "\n",
    "plt.figure(figsize=(10, 7))\n",
    "for i in range(num_classes):\n",
    "    fpr, tpr, _ = roc_curve(y_test_bin[:, i], y_pred_ann_probs[:, i])\n",
    "    roc_auc = auc(fpr, tpr)\n",
    "    plt.plot(fpr, tpr, label=f\"Class {i} (AUC = {roc_auc:.2f})\")\n",
    "\n",
    "plt.plot([0, 1], [0, 1], 'k--', label=\"Random Guess\")\n",
    "plt.xlim([0.0, 1.0])\n",
    "plt.ylim([0.0, 1.05])\n",
    "plt.xlabel(\"False Positive Rate\")\n",
    "plt.ylabel(\"True Positive Rate\")\n",
    "plt.title(\"ROC Curve - ANN\")\n",
    "plt.legend(loc=\"upper center\", bbox_to_anchor=(0.5, -0.3), ncol=4, fontsize='small')\n",
    "plt.tight_layout()\n",
    "plt.show()"
   ]
  }
 ],
 "metadata": {
  "colab": {
   "provenance": []
  },
  "kernelspec": {
   "display_name": "Python 3",
   "language": "python",
   "name": "python3"
  },
  "language_info": {
   "codemirror_mode": {
    "name": "ipython",
    "version": 3
   },
   "file_extension": ".py",
   "mimetype": "text/x-python",
   "name": "python",
   "nbconvert_exporter": "python",
   "pygments_lexer": "ipython3",
   "version": "3.13.3"
  }
 },
 "nbformat": 4,
 "nbformat_minor": 5
}
